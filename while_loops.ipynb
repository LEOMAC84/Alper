{
  "nbformat": 4,
  "nbformat_minor": 0,
  "metadata": {
    "colab": {
      "provenance": [],
      "include_colab_link": true
    },
    "kernelspec": {
      "name": "python3",
      "display_name": "Python 3"
    },
    "language_info": {
      "name": "python"
    }
  },
  "cells": [
    {
      "cell_type": "markdown",
      "metadata": {
        "id": "view-in-github",
        "colab_type": "text"
      },
      "source": [
        "<a href=\"https://colab.research.google.com/github/LEOMAC84/Alper/blob/main/while_loops.ipynb\" target=\"_parent\"><img src=\"https://colab.research.google.com/assets/colab-badge.svg\" alt=\"Open In Colab\"/></a>"
      ]
    },
    {
      "cell_type": "code",
      "source": [
        "import time\n",
        "dent = 19\n",
        "while dent<30:\n",
        "  if dent>21.2:\n",
        "    print('Sell')\n",
        "  elif dent>17.6:\n",
        "    print('too expensive')\n",
        "  elif dent>= 16.3:\n",
        "    print('Buy')\n",
        "  print('current price:', dent)\n",
        "  dent += 1.2\n",
        "  time.sleep(2)\n"
      ],
      "metadata": {
        "colab": {
          "base_uri": "https://localhost:8080/"
        },
        "id": "uipBHFENLQKQ",
        "outputId": "b7b67f29-25dc-4a97-d976-f24f00c90a62"
      },
      "execution_count": 32,
      "outputs": [
        {
          "output_type": "stream",
          "name": "stdout",
          "text": [
            "too expensive\n",
            "current price: 19\n",
            "too expensive\n",
            "current price: 20.2\n",
            "Sell\n",
            "current price: 21.4\n",
            "Sell\n",
            "current price: 22.599999999999998\n",
            "Sell\n",
            "current price: 23.799999999999997\n",
            "Sell\n",
            "current price: 24.999999999999996\n",
            "Sell\n",
            "current price: 26.199999999999996\n",
            "Sell\n",
            "current price: 27.399999999999995\n",
            "Sell\n",
            "current price: 28.599999999999994\n",
            "Sell\n",
            "current price: 29.799999999999994\n"
          ]
        }
      ]
    },
    {
      "cell_type": "code",
      "execution_count": 1,
      "metadata": {
        "colab": {
          "base_uri": "https://localhost:8080/"
        },
        "id": "dp_fZfIh7VlF",
        "outputId": "1a941f00-6061-426a-d1ce-f1541cc2d0c2"
      },
      "outputs": [
        {
          "output_type": "stream",
          "name": "stdout",
          "text": [
            "Cold ❄️\n"
          ]
        }
      ],
      "source": [
        "celsius = 10\n",
        "\n",
        "if celsius > 30:\n",
        "  print('Hot 🔥')\n",
        "elif 30 >= celsius > 20:\n",
        "  print('Good 🟩')\n",
        "elif -273 < celsius <= 20:\n",
        "  print('Cold ❄️')\n",
        "else:\n",
        "  print('Something went wrong!')"
      ]
    },
    {
      "cell_type": "code",
      "source": [
        "celcius = 10\n",
        " \n",
        "while celcius < 50:\n",
        " \n",
        "  if celcius > 30:\n",
        "    print('Hot 🔥')\n",
        "  elif 30 >= celcius > 20:\n",
        "    print('Good 🟩')\n",
        "  elif -273 < celcius <= 20:              \n",
        "    print('Cold ❄️')\n",
        "  else:\n",
        "    print('Something went wrong!')"
      ],
      "metadata": {
        "id": "5f_D5ZJ77ZXI"
      },
      "execution_count": null,
      "outputs": []
    },
    {
      "cell_type": "code",
      "source": [
        "celcius = 10\n",
        " \n",
        "while celcius < 50:\n",
        " \n",
        "  if celcius > 30:\n",
        "    print('Hot 🔥')\n",
        "  elif 30 >= celcius > 20:\n",
        "    print('Good 🟩')\n",
        "  elif -273 < celcius <= 20:              \n",
        "    print('Cold ❄️')\n",
        "  else:\n",
        "    print('Something went wrong!')\n",
        "  celcius += 5"
      ],
      "metadata": {
        "colab": {
          "base_uri": "https://localhost:8080/"
        },
        "id": "vY_wJsZk7v_4",
        "outputId": "1e6112cf-feea-4eb9-9b4b-0157dad0b59e"
      },
      "execution_count": null,
      "outputs": [
        {
          "output_type": "stream",
          "name": "stdout",
          "text": [
            "Cold ❄️\n",
            "Cold ❄️\n",
            "Cold ❄️\n",
            "Good 🟩\n",
            "Good 🟩\n",
            "Hot 🔥\n",
            "Hot 🔥\n",
            "Hot 🔥\n"
          ]
        }
      ]
    },
    {
      "cell_type": "code",
      "source": [
        "celcius = 10\n",
        " \n",
        "while celcius < 50:\n",
        " \n",
        "  if celcius > 30:\n",
        "    print('Hot 🔥')\n",
        "  elif 30 >= celcius > 20:\n",
        "    print('Good 🟩')\n",
        "  elif -273 < celcius <= 20:              \n",
        "    print('Cold ❄️')\n",
        "  else:\n",
        "    print('Something went wrong!')\n",
        "  print('The current temperature is',celcius)\n",
        "  celcius += 5"
      ],
      "metadata": {
        "colab": {
          "base_uri": "https://localhost:8080/"
        },
        "id": "J645vXrg71Nr",
        "outputId": "39c3cd20-248b-4926-fecc-806da13a4680"
      },
      "execution_count": null,
      "outputs": [
        {
          "output_type": "stream",
          "name": "stdout",
          "text": [
            "Cold ❄️\n",
            "The current temperature is 10\n",
            "Cold ❄️\n",
            "The current temperature is 15\n",
            "Cold ❄️\n",
            "The current temperature is 20\n",
            "Good 🟩\n",
            "The current temperature is 25\n",
            "Good 🟩\n",
            "The current temperature is 30\n",
            "Hot 🔥\n",
            "The current temperature is 35\n",
            "Hot 🔥\n",
            "The current temperature is 40\n",
            "Hot 🔥\n",
            "The current temperature is 45\n"
          ]
        }
      ]
    },
    {
      "cell_type": "code",
      "source": [
        "import time\n",
        "celcius = 10\n",
        " \n",
        "while celcius < 50:\n",
        " \n",
        "  if celcius > 30:\n",
        "    print('Hot 🔥')\n",
        "  elif 30 >= celcius > 20:\n",
        "    print('Good 🟩')\n",
        "  elif -273 < celcius <= 20:              \n",
        "    print('Cold ❄️')\n",
        "  else:\n",
        "    print('Something went wrong!')\n",
        "  print('The current temperature is',celcius)\n",
        "  celcius += 5\n",
        "  time.sleep(1)"
      ],
      "metadata": {
        "colab": {
          "base_uri": "https://localhost:8080/"
        },
        "id": "K-qrD5Zh76aM",
        "outputId": "a554f4bd-2d54-4eca-992d-1f35f9064bad"
      },
      "execution_count": null,
      "outputs": [
        {
          "output_type": "stream",
          "name": "stdout",
          "text": [
            "Cold ❄️\n",
            "The current temperature is 10\n",
            "Cold ❄️\n",
            "The current temperature is 15\n",
            "Cold ❄️\n",
            "The current temperature is 20\n",
            "Good 🟩\n",
            "The current temperature is 25\n",
            "Good 🟩\n",
            "The current temperature is 30\n",
            "Hot 🔥\n",
            "The current temperature is 35\n",
            "Hot 🔥\n",
            "The current temperature is 40\n",
            "Hot 🔥\n",
            "The current temperature is 45\n"
          ]
        }
      ]
    },
    {
      "cell_type": "code",
      "source": [],
      "metadata": {
        "id": "20NSTu8U79TO"
      },
      "execution_count": null,
      "outputs": []
    }
  ]
}