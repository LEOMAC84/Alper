{
  "nbformat": 4,
  "nbformat_minor": 0,
  "metadata": {
    "colab": {
      "provenance": [],
      "include_colab_link": true
    },
    "kernelspec": {
      "name": "python3",
      "display_name": "Python 3"
    },
    "language_info": {
      "name": "python"
    }
  },
  "cells": [
    {
      "cell_type": "markdown",
      "metadata": {
        "id": "view-in-github",
        "colab_type": "text"
      },
      "source": [
        "<a href=\"https://colab.research.google.com/github/LEOMAC84/Alper/blob/main/functions.ipynb\" target=\"_parent\"><img src=\"https://colab.research.google.com/assets/colab-badge.svg\" alt=\"Open In Colab\"/></a>"
      ]
    },
    {
      "cell_type": "code",
      "source": [
        "def gol(Dakikasi):\n",
        "  print('Goall Goall Goall', input())\n",
        "\n",
        "gol(76)"
      ],
      "metadata": {
        "colab": {
          "base_uri": "https://localhost:8080/"
        },
        "id": "j3WSai_zOjyf",
        "outputId": "24a28f07-c29d-4f4d-9bc7-8f90d2617c5c"
      },
      "execution_count": 12,
      "outputs": [
        {
          "output_type": "stream",
          "name": "stdout",
          "text": [
            "88\n",
            "Goall Goall Goall 88\n"
          ]
        }
      ]
    },
    {
      "cell_type": "code",
      "execution_count": 1,
      "metadata": {
        "id": "Eq3ZY4hp88WH",
        "colab": {
          "base_uri": "https://localhost:8080/"
        },
        "outputId": "8d19f4d3-dfe5-4bf2-8446-f5d413acc8fb"
      },
      "outputs": [
        {
          "output_type": "stream",
          "name": "stdout",
          "text": [
            "Type of number before int() function:  <class 'str'>\n",
            "Type of number after int() function:  <class 'int'>\n"
          ]
        }
      ],
      "source": [
        "number = '15'\n",
        "print('Type of number before int() function: ', type(number))\n",
        " \n",
        "number = int(number)\n",
        " \n",
        "print('Type of number after int() function: ', type(number))"
      ]
    },
    {
      "cell_type": "code",
      "source": [
        "def hello(name):\n",
        "  print('Hello', name)"
      ],
      "metadata": {
        "id": "7SnVeCSU9D52"
      },
      "execution_count": 3,
      "outputs": []
    },
    {
      "cell_type": "code",
      "source": [
        "hello('D')"
      ],
      "metadata": {
        "colab": {
          "base_uri": "https://localhost:8080/"
        },
        "id": "06OaQ9mN9Hoa",
        "outputId": "8599eb5e-73cd-430a-b076-cdb274053615"
      },
      "execution_count": 5,
      "outputs": [
        {
          "output_type": "stream",
          "name": "stdout",
          "text": [
            "Hello D\n"
          ]
        }
      ]
    },
    {
      "cell_type": "code",
      "source": [
        "def sum(number1, number2):\n",
        "  print(number1 + number2)"
      ],
      "metadata": {
        "id": "7JnjY3wH9Tt1"
      },
      "execution_count": 19,
      "outputs": []
    },
    {
      "cell_type": "code",
      "source": [
        "sum(3, 5)"
      ],
      "metadata": {
        "colab": {
          "base_uri": "https://localhost:8080/"
        },
        "id": "nhYIaQd_9VbX",
        "outputId": "d21b18c1-b398-43a7-d667-8f7de0d928e4"
      },
      "execution_count": 20,
      "outputs": [
        {
          "output_type": "stream",
          "name": "stdout",
          "text": [
            "8\n"
          ]
        }
      ]
    },
    {
      "cell_type": "code",
      "source": [
        "result = sum(3, 5)\n",
        "print(result)"
      ],
      "metadata": {
        "colab": {
          "base_uri": "https://localhost:8080/"
        },
        "id": "VFIqSIEX9W_7",
        "outputId": "11799566-3cbf-4118-8966-e9a803a383ff"
      },
      "execution_count": 21,
      "outputs": [
        {
          "output_type": "stream",
          "name": "stdout",
          "text": [
            "8\n",
            "None\n"
          ]
        }
      ]
    },
    {
      "cell_type": "code",
      "source": [
        "def sum(number1, number2):\n",
        "  answer = number1 + number2\n",
        "  return answer\n",
        " \n",
        "result = sum(3, 5)\n",
        "print(result)"
      ],
      "metadata": {
        "id": "j8AxtCY79asg"
      },
      "execution_count": null,
      "outputs": []
    }
  ]
}