{
  "nbformat": 4,
  "nbformat_minor": 0,
  "metadata": {
    "colab": {
      "provenance": [],
      "include_colab_link": true
    },
    "kernelspec": {
      "name": "python3",
      "display_name": "Python 3"
    },
    "language_info": {
      "name": "python"
    }
  },
  "cells": [
    {
      "cell_type": "markdown",
      "metadata": {
        "id": "view-in-github",
        "colab_type": "text"
      },
      "source": [
        "<a href=\"https://colab.research.google.com/github/LEOMAC84/Alper/blob/main/practical_exercise2.ipynb\" target=\"_parent\"><img src=\"https://colab.research.google.com/assets/colab-badge.svg\" alt=\"Open In Colab\"/></a>"
      ]
    },
    {
      "cell_type": "markdown",
      "source": [
        "# Practical exercise 2:  You are a game developer :)\n",
        "\n",
        "In this practical exercise you are a game developer. You will program your first game – Rock, Paper, Scissors.\n",
        "\n",
        "If you are not familiar with the game, you can read about it here: https://en.wikipedia.org/wiki/Rock_paper_scissors.\n",
        "\n",
        "You will program the game step by step. Please read the instructions carefully. There are hints and important explanations that will help you with this exercise."
      ],
      "metadata": {
        "id": "tBDsFMQwBs6Z"
      }
    },
    {
      "cell_type": "markdown",
      "source": [
        "##Warm up\n",
        "\n",
        "Each player can choose between the three actions \"rock\", \"paper\" and \"scissors\". First, you need to create a list that contains all possible actions. "
      ],
      "metadata": {
        "id": "ymULFKyosM3d"
      }
    },
    {
      "cell_type": "code",
      "source": [
        "#Please create a list containing the three actions of the game.\n",
        "list=['rock','paper','scissors']\n"
      ],
      "metadata": {
        "id": "0w6HGZBvsvru"
      },
      "execution_count": null,
      "outputs": []
    },
    {
      "cell_type": "markdown",
      "source": [
        "# Choose an action\n",
        "\n",
        "Now you have the list with the actions ready. The next step is to let Python randomly choose an action from this list. Each player has to make a choice, so Python has to make a choice for player 1 and another one for player 2.\n",
        "\n",
        "📌The built-in module \"random\" can help you with this. As you might remember from previous lessons you can use the .randint() method to generate random numbers.\n",
        "\n",
        "📌📌There is another method in the random module called .choice(). It takes a list as input and selects an item randomly from that list.\n",
        "\n"
      ],
      "metadata": {
        "id": "cnWVzlo1vBy8"
      }
    },
    {
      "cell_type": "code",
      "source": [
        "#Import the random library\n",
        "import random\n",
        "player1 = random.randint(0,2)\n",
        "if player1 < 1:\n",
        "  print('player1:','rock')\n",
        "elif player1 > 1:\n",
        "  print('player1:','scissors')\n",
        "else:\n",
        "  print('player1:','paper')\n",
        "#list=['rock','paper','scissors']\n",
        "player2= random.randint(0,2)\n",
        "if player2 < 1:\n",
        "  print('player2:','rock')\n",
        "elif player2 > 1:\n",
        "  print('player2:','scissors')\n",
        "else:\n",
        "  print('player2:','paper')\n",
        "\n",
        "\n",
        "\n",
        "\n",
        "#Select a random action for each player\n",
        "\n",
        "\n",
        "#Use the print function to print the players choices\n",
        "#list=['rock','paper','scissors']"
      ],
      "metadata": {
        "id": "bdlEyJC2xPOw",
        "colab": {
          "base_uri": "https://localhost:8080/"
        },
        "outputId": "ce3ad2ca-feb4-4c3f-fa27-851465fa112d"
      },
      "execution_count": null,
      "outputs": [
        {
          "output_type": "stream",
          "name": "stdout",
          "text": [
            "player1: scissors\n",
            "player2: rock\n"
          ]
        }
      ]
    },
    {
      "cell_type": "markdown",
      "source": [
        "# Determine the winner\n",
        "\n",
        "So, who won? To determine the winner, you first have to specify all possible outcomes of the game. Then you can use conditional statements to specify which outcome will lead to a win for player 1 or player 2, or a tie.\n",
        "\n",
        "First, let's start with the outcome that both users chose the same action: a tie!\n",
        "In case of a tie, the game should print the message \"Tie! Both players chose the same action.\" to the screen.\n",
        "\n",
        "📌Use conditional statements to check whether the players actions are equal to each other and *if* this condition is true the message should be printed."
      ],
      "metadata": {
        "id": "Yr7uQq1J2k6p"
      }
    },
    {
      "cell_type": "code",
      "source": [
        "#1 - Tie Condition\n",
        "#Please write an if statement to check if the players chose the same action\n",
        "if player1==player2:\n",
        "  print('tie! both player choose same thing!')\n"
      ],
      "metadata": {
        "id": "8S1F2r8NtEoN"
      },
      "execution_count": null,
      "outputs": []
    },
    {
      "cell_type": "markdown",
      "source": [
        "Now, let's focus on the remaining outcomes. We have three different actions: rock, paper and scissors.\n",
        "\n",
        "This is a list of all the possible combinations (without those that result in a tie):\n",
        "\n",
        "1.   (paper, rock)\n",
        "2.   (paper, scissors)\n",
        "3.   (scissors, rock)\n",
        "4.   (scissors, paper)\n",
        "5.   (rock, paper)\n",
        "6.   (rock, scissors)\n",
        "\n",
        "You need to check all these conditions in order to determine the winner.\n",
        "\n",
        "📌You can use the \"and\" operator to combine two actions in one conditional statement.\n",
        "\n",
        "📌📌Another approach is using nested if statements to check whether the action of player 2 beats the action of player 1.\n",
        "\n",
        "🧨💣In the cell, first copy the code you wrote for \"Tie\" conditions. Then continue to add the other outcomes using \"elif\".\n",
        "\n",
        "\n"
      ],
      "metadata": {
        "id": "6aKSif7rItma"
      }
    },
    {
      "cell_type": "code",
      "source": [
        "#Copy your code of the tie-conditions here\n",
        "#1 - Tie Condition\n",
        "if player1==player2:\n",
        "  print('tie! both player choose same thing!')\n",
        "\n",
        "\n",
        "#2-Winning Conditions\n",
        "#list=['rock','paper','scissors']\n",
        "if player1==0 and player2==1:\n",
        "  print('player1 lost')\n",
        "elif player1==0 and player2==2:\n",
        "  print('player1 won')\n",
        "elif player1==1 and player2==0:\n",
        "  print('player1 won')\n",
        "elif player1==1 and player2==2:\n",
        "  print('player1 lost')\n",
        "elif player1==2 and player2==1:\n",
        "  print('player1 won')\n",
        "elif player1==2 and player2==0:\n",
        "  print('player1 lost')\n",
        "        \n",
        "\n",
        "#Please add the conditional statements for the remaining combinations \n"
      ],
      "metadata": {
        "id": "Ix9sskr5z6Td",
        "colab": {
          "base_uri": "https://localhost:8080/"
        },
        "outputId": "6a5a93f1-a5a4-4d54-9c8a-894acdc54ac6"
      },
      "execution_count": null,
      "outputs": [
        {
          "output_type": "stream",
          "name": "stdout",
          "text": [
            "player1 lost\n"
          ]
        }
      ]
    },
    {
      "cell_type": "markdown",
      "source": [
        "# Best of 3 or 5 or single round ? :)\n",
        "\n",
        "Now that you have your game set, let's also ask the users how many rounds they want to play.\n",
        "\n",
        "📌 You can use the input function for this.\n",
        "\n",
        "And because there are multiple rounds, you need to keep track of the score. For this, you need to create a variable for each player that is 0 in the beginning.\n"
      ],
      "metadata": {
        "id": "7Ixf-AHqIhcV"
      }
    },
    {
      "cell_type": "code",
      "source": [
        "#Please ask the user how many rounds they want to play\n",
        "round= input('how many do you want to play:')\n",
        "\n",
        "\n",
        "#Scores of players\n",
        "\n"
      ],
      "metadata": {
        "id": "_kbrpXXkBU_d",
        "colab": {
          "base_uri": "https://localhost:8080/"
        },
        "outputId": "7942af8a-bdf8-4cc1-9129-f579e9e185d6"
      },
      "execution_count": null,
      "outputs": [
        {
          "name": "stdout",
          "output_type": "stream",
          "text": [
            "how many do you want to play:6\n"
          ]
        }
      ]
    },
    {
      "cell_type": "markdown",
      "source": [
        "# Use a for loop to specify the number of rounds \n",
        "The user specified how many rounds he or she wants to play. \n",
        "\n",
        "One way to use this information is to put the game inside of a for loop.\n",
        "\n",
        "📌 You can use a for loop and the range() function to repeat the loop for a specified number of times.\n",
        "\n",
        "📌📌 Don't forget to convert the user input to the data type integer. You can use the int() function for this.\n",
        "\n",
        "📌📌📌 Don't forget to increment or add 1 to the score of the players that win, and print the current score after each round. You can use the assignment operator +=1 for this. "
      ],
      "metadata": {
        "id": "nzIGT6s_CWvP"
      }
    },
    {
      "cell_type": "code",
      "source": [
        "#Collect all the components of your program to run it in a for loop\n",
        "#Import the random library\n",
        "import random\n",
        "list=['rock','paper','scissors']\n",
        "\n",
        "#Add the code to create a list containing the three actions of the game.\n",
        "player1_score=0\n",
        "player2_score=0\n",
        "round= input('how many do you want to play:')\n",
        "for i in range(int(round)):\n",
        " print(i)\n",
        " player1 = random.randint(0,2)\n",
        " if player1 < 1:\n",
        "  print('player1:','rock')\n",
        " elif player1 > 1:\n",
        "  print('player1:','scissors')\n",
        " else:\n",
        "  print('player1:','paper')\n",
        " #list=['rock','paper','scissors']\n",
        " player2= random.randint(0,2)\n",
        " if player2 < 1:\n",
        "  print('player2:','rock')\n",
        " elif player2 > 1:\n",
        "  print('player2:','scissors')\n",
        " else:\n",
        "  print('player2:','paper')\n",
        "\n",
        " if player1==player2:\n",
        "  print('tie! both player choose same thing!')\n",
        "\n",
        "  #list=['rock','paper','scissors']\n",
        " if player1==0 and player2==1:\n",
        "  print('Winner is!! player2')\n",
        "  player2_score+=1\n",
        " elif player1==0 and player2==2:\n",
        "  print('Winner is!!','player1')\n",
        "  player1_score+=1\n",
        " elif player1==1 and player2==0:\n",
        "  print('Winner is!!','player1')\n",
        "  player1_score+=1\n",
        " elif player1==1 and player2==2:\n",
        "  print('Winner is!!','player2')\n",
        "  player2_score+=1\n",
        " elif player1==2 and player2==1:\n",
        "  print('Winner is!!','player1')\n",
        "  player1_score+=1\n",
        " elif player1==2 and player2==0:\n",
        "  print('Winner is!!','player2')\n",
        "  player2_score+=1\n",
        "  print('player1_score:',player1_score)\n",
        "  print('player2_score:',player2_score)\n",
        "\n",
        "    \n",
        "\n",
        " \n",
        " \n",
        "\n",
        "\n",
        "#Add the code to set the scores of players to 0\n",
        "\n",
        "\n",
        "#Add the code to ask the user how many rounds they want to play\n",
        "\n",
        "\n",
        "#Write a for loop and put the game inside\n",
        "\n",
        "\n",
        "  #Add the code to select a random action for each player\n",
        "\n",
        "\n",
        "  #Add the code to print the players choices\n",
        "\n",
        "\n",
        "  #Add the tie condition\n",
        "\n",
        "\n",
        "  #Add the remaining condition\n",
        "\n",
        "\n",
        "  #print the score\n",
        "\n",
        "\n"
      ],
      "metadata": {
        "id": "Wy7CLLRNCV3X",
        "colab": {
          "base_uri": "https://localhost:8080/"
        },
        "outputId": "8435dc7f-55ad-449b-acd2-373dfad06b5b"
      },
      "execution_count": 25,
      "outputs": [
        {
          "output_type": "stream",
          "name": "stdout",
          "text": [
            "how many do you want to play:5\n",
            "0\n",
            "player1: paper\n",
            "player2: paper\n",
            "tie! both player choose same thing!\n",
            "1\n",
            "player1: paper\n",
            "player2: rock\n",
            "Winner is!! player1\n",
            "2\n",
            "player1: paper\n",
            "player2: rock\n",
            "Winner is!! player1\n",
            "3\n",
            "player1: rock\n",
            "player2: scissors\n",
            "Winner is!! player1\n",
            "4\n",
            "player1: scissors\n",
            "player2: rock\n",
            "Winner is!! player2\n",
            "player1_score: 3\n",
            "player2_score: 1\n"
          ]
        }
      ]
    },
    {
      "cell_type": "markdown",
      "source": [
        "# Use a while loop to specify the number of rounds - Part 1\n",
        "\n",
        "In this module we also learned about while loops. Another way to play the game over and over again is using a while loop. \n",
        "\n",
        "This time, let's put the game inside a while loop.\n",
        "\n",
        "📌 You can directly use the value *True* to specify that the while loop should be executed. \n",
        "\n",
        "💣 By the way: Another very common name for True/False values is \"**Boolean values**\" or \"**Bools**\" in short.\n",
        "\n",
        "🧨🧨 Caution! Since we run the game in an while loop, you have to stop the game manually. Otherwise it will run infinitely.\n"
      ],
      "metadata": {
        "id": "QQIXQsmRwGqB"
      }
    },
    {
      "cell_type": "code",
      "source": [
        "#Collect all the components of your program to run it in a while loop\n",
        "#Import the random library\n",
        "\n",
        "import random\n",
        "\n",
        "#Add the code to create a list containing the three actions of the game.\n",
        "\n",
        "\n",
        "#Add the code to set the scores of players to 0\n",
        "player1_score=0\n",
        "player2_score=0\n",
        "\n",
        "#Write a while loop and put the game inside\n",
        "while (player1_score <=9 and player2_score <=9):\n",
        " player1 = random.randint(0,2)\n",
        " if player1 < 1:\n",
        "   print('player1:','rock')\n",
        " elif player1 > 1:\n",
        "   print('player1:','scissors')\n",
        " else:\n",
        "   print('player1:','paper')\n",
        " #list=['rock','paper','scissors']\n",
        " player2= random.randint(0,2)\n",
        " if player2 < 1:\n",
        "  print('player2:','rock')\n",
        " elif player2 > 1:\n",
        "  print('player2:','scissors')\n",
        " else:\n",
        "  print('player2:','paper')\n",
        "\n",
        " if player1==player2:\n",
        "  print('tie! both player choose same thing!')\n",
        "\n",
        "  #list=['rock','paper','scissors']\n",
        " if player1==0 and player2==1:\n",
        "  print('Winner is!! player2')\n",
        "  player2_score+=1\n",
        " elif player1==0 and player2==2:\n",
        "  print('Winner is!!','player1')\n",
        "  player1_score+=1\n",
        " elif player1==1 and player2==0:\n",
        "  print('Winner is!!','player1')\n",
        "  player1_score+=1\n",
        " elif player1==1 and player2==2:\n",
        "  print('Winner is!!','player2')\n",
        "  player2_score+=1\n",
        " elif player1==2 and player2==1:\n",
        "  print('Winner is!!','player1')\n",
        "  player1_score+=1\n",
        " elif player1==2 and player2==0:\n",
        "  print('Winner is!!','player2')\n",
        "  player2_score+=1\n",
        " print('player1_score:',player1_score)\n",
        " print('player2_score:',player2_score)\n",
        "\n",
        "  #Add the code to select a random action for each player\n",
        "\n",
        "\n",
        "  #Add the code to print the players choices\n",
        "\n",
        "\n",
        "  #Add the tie condition\n",
        "\n",
        "\n",
        "  #Add the remaining condition\n",
        "\n",
        "\n",
        "  #print the score\n",
        "\n"
      ],
      "metadata": {
        "id": "dvTr4HR4wF4n",
        "colab": {
          "base_uri": "https://localhost:8080/"
        },
        "outputId": "3acb7132-dd0f-46b4-e12a-c127e640c3a0"
      },
      "execution_count": 59,
      "outputs": [
        {
          "output_type": "stream",
          "name": "stdout",
          "text": [
            "player1: rock\n",
            "player2: rock\n",
            "tie! both player choose same thing!\n",
            "player1_score: 0\n",
            "player2_score: 0\n",
            "player1: scissors\n",
            "player2: rock\n",
            "Winner is!! player2\n",
            "player1_score: 0\n",
            "player2_score: 1\n",
            "player1: paper\n",
            "player2: paper\n",
            "tie! both player choose same thing!\n",
            "player1_score: 0\n",
            "player2_score: 1\n",
            "player1: scissors\n",
            "player2: rock\n",
            "Winner is!! player2\n",
            "player1_score: 0\n",
            "player2_score: 2\n",
            "player1: scissors\n",
            "player2: scissors\n",
            "tie! both player choose same thing!\n",
            "player1_score: 0\n",
            "player2_score: 2\n",
            "player1: paper\n",
            "player2: scissors\n",
            "Winner is!! player2\n",
            "player1_score: 0\n",
            "player2_score: 3\n",
            "player1: paper\n",
            "player2: paper\n",
            "tie! both player choose same thing!\n",
            "player1_score: 0\n",
            "player2_score: 3\n",
            "player1: scissors\n",
            "player2: scissors\n",
            "tie! both player choose same thing!\n",
            "player1_score: 0\n",
            "player2_score: 3\n",
            "player1: scissors\n",
            "player2: scissors\n",
            "tie! both player choose same thing!\n",
            "player1_score: 0\n",
            "player2_score: 3\n",
            "player1: scissors\n",
            "player2: paper\n",
            "Winner is!! player1\n",
            "player1_score: 1\n",
            "player2_score: 3\n",
            "player1: scissors\n",
            "player2: scissors\n",
            "tie! both player choose same thing!\n",
            "player1_score: 1\n",
            "player2_score: 3\n",
            "player1: paper\n",
            "player2: rock\n",
            "Winner is!! player1\n",
            "player1_score: 2\n",
            "player2_score: 3\n",
            "player1: paper\n",
            "player2: rock\n",
            "Winner is!! player1\n",
            "player1_score: 3\n",
            "player2_score: 3\n",
            "player1: rock\n",
            "player2: rock\n",
            "tie! both player choose same thing!\n",
            "player1_score: 3\n",
            "player2_score: 3\n",
            "player1: scissors\n",
            "player2: scissors\n",
            "tie! both player choose same thing!\n",
            "player1_score: 3\n",
            "player2_score: 3\n",
            "player1: scissors\n",
            "player2: rock\n",
            "Winner is!! player2\n",
            "player1_score: 3\n",
            "player2_score: 4\n",
            "player1: rock\n",
            "player2: rock\n",
            "tie! both player choose same thing!\n",
            "player1_score: 3\n",
            "player2_score: 4\n",
            "player1: scissors\n",
            "player2: scissors\n",
            "tie! both player choose same thing!\n",
            "player1_score: 3\n",
            "player2_score: 4\n",
            "player1: rock\n",
            "player2: rock\n",
            "tie! both player choose same thing!\n",
            "player1_score: 3\n",
            "player2_score: 4\n",
            "player1: scissors\n",
            "player2: rock\n",
            "Winner is!! player2\n",
            "player1_score: 3\n",
            "player2_score: 5\n",
            "player1: rock\n",
            "player2: rock\n",
            "tie! both player choose same thing!\n",
            "player1_score: 3\n",
            "player2_score: 5\n",
            "player1: rock\n",
            "player2: paper\n",
            "Winner is!! player2\n",
            "player1_score: 3\n",
            "player2_score: 6\n",
            "player1: scissors\n",
            "player2: rock\n",
            "Winner is!! player2\n",
            "player1_score: 3\n",
            "player2_score: 7\n",
            "player1: scissors\n",
            "player2: paper\n",
            "Winner is!! player1\n",
            "player1_score: 4\n",
            "player2_score: 7\n",
            "player1: paper\n",
            "player2: scissors\n",
            "Winner is!! player2\n",
            "player1_score: 4\n",
            "player2_score: 8\n",
            "player1: scissors\n",
            "player2: paper\n",
            "Winner is!! player1\n",
            "player1_score: 5\n",
            "player2_score: 8\n",
            "player1: rock\n",
            "player2: rock\n",
            "tie! both player choose same thing!\n",
            "player1_score: 5\n",
            "player2_score: 8\n",
            "player1: scissors\n",
            "player2: rock\n",
            "Winner is!! player2\n",
            "player1_score: 5\n",
            "player2_score: 9\n",
            "player1: paper\n",
            "player2: scissors\n",
            "Winner is!! player2\n",
            "player1_score: 5\n",
            "player2_score: 10\n"
          ]
        }
      ]
    },
    {
      "cell_type": "markdown",
      "source": [
        "# Use a while loop to specify the number of rounds - Part 2\n",
        "\n",
        "Now the game runs infinitely and the user can end it manually. But there is a more efficient way to do this: Let's ask the user again how many rounds they want to play, just as you did for the game inside the for loop.\n",
        "\n",
        "To prevent an infinite loop, you need to add a round_counter that is 0 at the beginning. In each round, this counter needs to increase by 1. \n",
        "\n",
        "At the end of your while loop, you need to add an \"if\" condition to check whether the round_counter is equal to the number of rounds that we got from user as an input. If this is the case, we need to use \"**break**\" to end the game.\n",
        "\n",
        "Once we end the game, it would be nice to see a message that prints the winner to the screen. In case of a tie, it should print a message that the game ended in a tie.\n",
        "\n",
        "📌 You can use \"if\" and \"elif\" statements to determine the winner at the end."
      ],
      "metadata": {
        "id": "YKVAuxIsjaE6"
      }
    },
    {
      "cell_type": "code",
      "source": [
        "#Collect all the components of your program to run it in a while loop\n",
        "#Import the random library\n",
        "import random\n",
        "list=['rock','paper','scissors']\n",
        "\n",
        "player1_score=0\n",
        "player2_score=0\n",
        "round_counter=0\n",
        "round= input('how many do you want to play:')\n",
        "while True:\n",
        "  player1 = random.randint(0,2)\n",
        "  if player1 < 1:\n",
        "   print('player1:','rock')\n",
        "  elif player1 > 1:\n",
        "   print('player1:','scissors')\n",
        "  else:\n",
        "   print('player1:','paper')\n",
        " #list=['rock','paper','scissors']\n",
        "  player2= random.randint(0,2)\n",
        "  if player2 < 1:\n",
        "   print('player2:','rock')\n",
        "  elif player2 > 1:\n",
        "   print('player2:','scissors')\n",
        "  else:\n",
        "   print('player2:','paper')\n",
        "\n",
        "  if player1==player2:\n",
        "   print('tie! both player choose same thing!')\n",
        "\n",
        "  #list=['rock','paper','scissors']\n",
        "  if player1==0 and player2==1:\n",
        "   print('Winner is!! player2')\n",
        "   player2_score+=1\n",
        "  elif player1==0 and player2==2:\n",
        "   print('Winner is!!','player1')\n",
        "   player1_score+=1\n",
        "  elif player1==1 and player2==0:\n",
        "   print('Winner is!!','player1')\n",
        "   player1_score+=1\n",
        "  elif player1==1 and player2==2:\n",
        "   print('Winner is!!','player2')\n",
        "   player2_score+=1\n",
        "  elif player1==2 and player2==1:\n",
        "    print('Winner is!!','player1')\n",
        "    player1_score+=1\n",
        "  elif player1==2 and player2==0:\n",
        "   print('Winner is!!','player2')\n",
        "   player2_score+=1\n",
        "  print('player1_score:',player1_score)\n",
        "  print('player2_score:',player2_score)\n",
        "  round_counter+=1\n",
        "  print(round_counter)\n",
        "  if round_counter==int(round):\n",
        "   break \n",
        "if player1_score>player2_score:\n",
        " print('Congrants player1')\n",
        "elif player1_score<player2_score:\n",
        " print('Congrants player2')\n",
        "else:\n",
        " print('Tie!')\n",
        "  \n",
        "\n",
        "\n",
        " \n",
        "#Add the code to create a list containing the three actions of the game.\n",
        "\n",
        "\n",
        "#Add the code to set the scores of players to 0\n",
        "\n",
        "#Add a round_counter that is 0 at the beginning\n",
        "\n",
        "\n",
        "#Add the code to ask the user how many rounds they want to play\n",
        "\n",
        "\n",
        "#Write a while loop and put the game inside\n",
        "\n",
        "\n",
        "  #increase round_counter by 1 and print it\n",
        "\n",
        "\n",
        "  #Add the code to select a random action for each player\n",
        "\n",
        "\n",
        "  #Add the code to print the players choices\n",
        "\n",
        "\n",
        "  #Add the tie condition\n",
        "\n",
        "\n",
        "  #Add the remaining condition\n",
        "\n",
        "\n",
        "  #print the score\n",
        "\n",
        "\n",
        "  #stop the while loop if the round_counter equals the number of total rounds\n",
        "\n",
        "#Print the outcome of the game by using conditional statements\n",
        "  "
      ],
      "metadata": {
        "id": "emrjgYoXjYCR",
        "colab": {
          "base_uri": "https://localhost:8080/"
        },
        "outputId": "27825827-834e-4665-808d-76ed8a72e90a"
      },
      "execution_count": 81,
      "outputs": [
        {
          "output_type": "stream",
          "name": "stdout",
          "text": [
            "how many do you want to play:5\n",
            "player1: rock\n",
            "player2: scissors\n",
            "Winner is!! player1\n",
            "player1_score: 1\n",
            "player2_score: 0\n",
            "1\n",
            "player1: scissors\n",
            "player2: paper\n",
            "Winner is!! player1\n",
            "player1_score: 2\n",
            "player2_score: 0\n",
            "2\n",
            "player1: rock\n",
            "player2: rock\n",
            "tie! both player choose same thing!\n",
            "player1_score: 2\n",
            "player2_score: 0\n",
            "3\n",
            "player1: scissors\n",
            "player2: scissors\n",
            "tie! both player choose same thing!\n",
            "player1_score: 2\n",
            "player2_score: 0\n",
            "4\n",
            "player1: scissors\n",
            "player2: scissors\n",
            "tie! both player choose same thing!\n",
            "player1_score: 2\n",
            "player2_score: 0\n",
            "5\n",
            "Congrants player1\n"
          ]
        }
      ]
    }
  ]
}