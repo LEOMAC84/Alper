{
  "nbformat": 4,
  "nbformat_minor": 0,
  "metadata": {
    "colab": {
      "provenance": [],
      "include_colab_link": true
    },
    "kernelspec": {
      "name": "python3",
      "display_name": "Python 3"
    },
    "language_info": {
      "name": "python"
    }
  },
  "cells": [
    {
      "cell_type": "markdown",
      "metadata": {
        "id": "view-in-github",
        "colab_type": "text"
      },
      "source": [
        "<a href=\"https://colab.research.google.com/github/LEOMAC84/Alper/blob/main/exception_handling.ipynb\" target=\"_parent\"><img src=\"https://colab.research.google.com/assets/colab-badge.svg\" alt=\"Open In Colab\"/></a>"
      ]
    },
    {
      "cell_type": "code",
      "execution_count": 2,
      "metadata": {
        "colab": {
          "base_uri": "https://localhost:8080/"
        },
        "id": "iLbI0tAPv2be",
        "outputId": "c1a3654a-454d-4dca-8d0c-a3d6c5ce4e0a"
      },
      "outputs": [
        {
          "output_type": "stream",
          "name": "stdout",
          "text": [
            "Please enter a Number: 78\n",
            "93\n"
          ]
        }
      ],
      "source": [
        "number1= 15\n",
        "number2 = input('Please enter a Number: ')\n",
        "print(number1 + int(number2))"
      ]
    },
    {
      "cell_type": "code",
      "source": [
        "celsius = 18\n",
        "if celsius > 20:\n",
        "  print('Good 🟩')\n",
        "else:\n",
        "    print('Cold ❄️')"
      ],
      "metadata": {
        "colab": {
          "base_uri": "https://localhost:8080/"
        },
        "id": "Xa-m0olIv_t4",
        "outputId": "99731c6d-677a-4a42-ce24-19d6879ba56b"
      },
      "execution_count": 4,
      "outputs": [
        {
          "output_type": "stream",
          "name": "stdout",
          "text": [
            "Cold ❄️\n"
          ]
        }
      ]
    },
    {
      "cell_type": "code",
      "source": [
        "def divide(number1, number2):\n",
        "   number1_integer = int(number1)\n",
        "   number2_integer = int(number2)\n",
        "   return number1_integer / number2_integer\n",
        " \n",
        "number1 = input('Please provide number1: ')\n",
        "number2 = input('Please provide number2: ')\n",
        " \n",
        "print(divide(number1, number2))"
      ],
      "metadata": {
        "id": "B_JN3n-ewIhl"
      },
      "execution_count": null,
      "outputs": []
    },
    {
      "cell_type": "code",
      "source": [
        "def divide(number1, number2):\n",
        "   try:\n",
        "       number1_integer = int(number1)\n",
        "       number2_integer = int(number2)\n",
        "       return number1_integer / number2_integer\n",
        " \n",
        "   except:\n",
        "       return 'Only integers are allowed! Try again.'\n",
        " \n",
        "number1 = input('Please provide a number1: ')\n",
        "number2 = input('Please provide a number2: ')\n",
        " \n",
        "print(divide(number1, number2))"
      ],
      "metadata": {
        "id": "pNCd4AhrwZ2q"
      },
      "execution_count": null,
      "outputs": []
    },
    {
      "cell_type": "code",
      "source": [
        "def divide(number1, number2):\n",
        "   try:\n",
        "       number1_integer = int(number1)\n",
        "       number2_integer = int(number2)\n",
        "       return number1_integer / number2_integer\n",
        "  \n",
        "   except ValueError:\n",
        "       return 'Only integers are allowed!'\n",
        " \n",
        "   except ZeroDivisionError:\n",
        "       return 'You cannot divide any number by zero!'\n",
        "\n",
        "\n",
        "\n",
        "number1 = input('Please provide a number1: ')\n",
        "number2 = input('Please provide a number2: ')\n",
        " \n",
        "print(divide(number1, number2))"
      ],
      "metadata": {
        "id": "XknaWgVbwalQ"
      },
      "execution_count": null,
      "outputs": []
    }
  ]
}